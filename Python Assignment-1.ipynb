{
 "cells": [
  {
   "cell_type": "code",
   "execution_count": null,
   "id": "af1bbabb-1f4a-44b0-8dc3-d911961d7fbd",
   "metadata": {},
   "outputs": [],
   "source": [
    "The keyword used function  is def "
   ]
  },
  {
   "cell_type": "code",
   "execution_count": 50,
   "id": "2fe08e9a-83dd-4672-9d7e-65f6855650f2",
   "metadata": {},
   "outputs": [],
   "source": [
    "def find_oddno(a,b):\n",
    "        \n",
    "    l=[]\n",
    "    for i in range(a,b+1):\n",
    "        if i%2!=0:\n",
    "            l.append(i)\n",
    "    return l\n",
    "    \n",
    "   \n",
    "    "
   ]
  },
  {
   "cell_type": "code",
   "execution_count": 51,
   "id": "53d2854a-bc94-4fb6-a01f-0e1e7021538a",
   "metadata": {},
   "outputs": [
    {
     "data": {
      "text/plain": [
       "[1, 3, 5, 7, 9, 11, 13, 15, 17, 19, 21, 23, 25]"
      ]
     },
     "execution_count": 51,
     "metadata": {},
     "output_type": "execute_result"
    }
   ],
   "source": [
    " find_oddno(1,25)"
   ]
  },
  {
   "cell_type": "code",
   "execution_count": 52,
   "id": "61897a6d-0f56-402b-b5fb-a46c939ec4b2",
   "metadata": {},
   "outputs": [
    {
     "data": {
      "text/plain": [
       "'(*args is used for to get the result as it is and **kwargs is for to get te result in the form of dictionary)'"
      ]
     },
     "execution_count": 52,
     "metadata": {},
     "output_type": "execute_result"
    }
   ],
   "source": [
    "'''(*args is used for to get the result as it is and **kwargs is for to get te result in the form of dictionary)'''\n"
   ]
  },
  {
   "cell_type": "code",
   "execution_count": 55,
   "id": "018fe8c1-dcc2-47e9-ad08-46c5729c3895",
   "metadata": {},
   "outputs": [],
   "source": [
    "def test1(*args):\n",
    "    return(args)\n"
   ]
  },
  {
   "cell_type": "code",
   "execution_count": 57,
   "id": "541cdb1c-3f41-4ea9-9323-e1922645b911",
   "metadata": {},
   "outputs": [
    {
     "data": {
      "text/plain": [
       "(6, 11)"
      ]
     },
     "execution_count": 57,
     "metadata": {},
     "output_type": "execute_result"
    }
   ],
   "source": [
    "test1(6,11)"
   ]
  },
  {
   "cell_type": "code",
   "execution_count": 58,
   "id": "28d0c1d7-c97d-49b2-931f-ed4720236677",
   "metadata": {},
   "outputs": [
    {
     "data": {
      "text/plain": [
       "function"
      ]
     },
     "execution_count": 58,
     "metadata": {},
     "output_type": "execute_result"
    }
   ],
   "source": [
    "type(test1)"
   ]
  },
  {
   "cell_type": "code",
   "execution_count": 64,
   "id": "19b567da-7865-4c75-96ee-35403a877867",
   "metadata": {},
   "outputs": [],
   "source": [
    "def test2(**kwargs):\n",
    "      return kwargs"
   ]
  },
  {
   "cell_type": "code",
   "execution_count": 65,
   "id": "6b0ebfe4-fdbc-49cb-a4b3-7860b45a536c",
   "metadata": {},
   "outputs": [
    {
     "data": {
      "text/plain": [
       "{'b': 15, 'c': 52}"
      ]
     },
     "execution_count": 65,
     "metadata": {},
     "output_type": "execute_result"
    }
   ],
   "source": [
    "test2(b=15,c=52)"
   ]
  },
  {
   "cell_type": "code",
   "execution_count": null,
   "id": "96409b71-e044-496d-96e4-5193b1e00731",
   "metadata": {},
   "outputs": [],
   "source": [
    "An iterator in Python is an object that represents a stream of data and enables iteration over elements one at a time. It provides a way to access the elements of a collection sequentially without needing to know the underlying structure of the collection.\n",
    "\n",
    "To initialize an iterator object in Python, you typically use the iter() function, passing the iterable object (such as a list) as an argument. This function returns an iterator object.\n",
    "\n",
    "To iterate over the elements of an iterator, you use the next() method. This method retrieves the next element from the iterator. When all elements have been exhausted, it raises a StopIteration exception."
   ]
  },
  {
   "cell_type": "code",
   "execution_count": 67,
   "id": "779d6343-2895-4b83-a4d2-8f7b23a32a8b",
   "metadata": {},
   "outputs": [],
   "source": [
    "l= [2, 4, 6, 8, 10, 12, 14,16, 18, 20]"
   ]
  },
  {
   "cell_type": "code",
   "execution_count": 68,
   "id": "9587f164-7d07-443a-a13f-8a5f605e9765",
   "metadata": {},
   "outputs": [],
   "source": [
    "a=iter(l)"
   ]
  },
  {
   "cell_type": "code",
   "execution_count": 72,
   "id": "3b1e99b7-7e77-484f-b07d-896328e7a6c0",
   "metadata": {},
   "outputs": [
    {
     "name": "stdout",
     "output_type": "stream",
     "text": [
      "2\n",
      "4\n",
      "6\n",
      "8\n",
      "10\n"
     ]
    }
   ],
   "source": [
    "l2=[]\n",
    "for i in range(5):\n",
    "    \n",
    "    print(next(a))\n",
    "\n"
   ]
  },
  {
   "cell_type": "code",
   "execution_count": null,
   "id": "1d51c0c3-8cc8-48b9-b45e-9c56686ba35e",
   "metadata": {},
   "outputs": [],
   "source": [
    "A generator function in Python is a special type of function that allows you to generate a sequence of values lazily, i.e., one at a time, on-the-fly, as they are needed. It produces values using the yield keyword rather than return, which enables it to generate multiple values over time, suspending and resuming its state between each value."
   ]
  },
  {
   "cell_type": "code",
   "execution_count": 80,
   "id": "54db5407-0761-4bc4-954e-7a1ed6b0d0ce",
   "metadata": {},
   "outputs": [
    {
     "name": "stdout",
     "output_type": "stream",
     "text": [
      "0\n",
      "2\n",
      "4\n",
      "6\n",
      "8\n"
     ]
    }
   ],
   "source": [
    "def generate_even_numbers():\n",
    "    num = 0\n",
    "    while True:\n",
    "        yield num\n",
    "        num += 2\n",
    "\n",
    "\n",
    "even_gen = generate_even_numbers()\n",
    "for _ in range(5):\n",
    "    print(next(even_gen)) \n"
   ]
  },
  {
   "cell_type": "code",
   "execution_count": 81,
   "id": "facfdc81-f505-4785-9be2-e6fa4ef21e36",
   "metadata": {},
   "outputs": [],
   "source": [
    "def generate_primes():\n",
    "    for num in range(2, 1000):\n",
    "        if is_prime(num):\n",
    "            yield num\n",
    "\n",
    "def is_prime(num):\n",
    "    if num < 2:\n",
    "        return False\n",
    "    for i in range(2, int(num**0.5) + 1):\n",
    "        if num % i == 0:\n",
    "            return False\n",
    "    return True\n"
   ]
  },
  {
   "cell_type": "code",
   "execution_count": 82,
   "id": "df23d857-5507-4d6d-8d87-623f251987d0",
   "metadata": {},
   "outputs": [
    {
     "name": "stdout",
     "output_type": "stream",
     "text": [
      "2\n",
      "3\n",
      "5\n",
      "7\n",
      "11\n",
      "13\n",
      "17\n",
      "19\n",
      "23\n",
      "29\n",
      "31\n",
      "37\n",
      "41\n",
      "43\n",
      "47\n",
      "53\n",
      "59\n",
      "61\n",
      "67\n",
      "71\n"
     ]
    }
   ],
   "source": [
    "\n",
    "prime_gen = generate_primes()\n",
    "\n",
    "\n",
    "for _ in range(20):\n",
    "    print(next(prime_gen))\n"
   ]
  },
  {
   "cell_type": "code",
   "execution_count": null,
   "id": "e95359d2-5e91-4b86-921a-d4f755e8f988",
   "metadata": {},
   "outputs": [],
   "source": [
    "def fibonacci_numbers():\n",
    "    # Initialize the first two numbers of the Fibonacci sequence\n",
    "    a, b = 0, 1\n",
    "    \n",
    "    # Counter to track the number of Fibonacci numbers printed\n",
    "    count = 0\n",
    "    \n",
    "    # Iterate using a while loop until the count reaches 10\n",
    "    while count < 10:\n",
    "        # Print the current Fibonacci number\n",
    "        print(a, end=\" \")\n",
    "        \n",
    "        # Update Fibonacci sequence: swap values and calculate the next number\n",
    "        a, b = b, a + b\n",
    "        \n",
    "        # Increment the count\n",
    "        count += 1\n",
    "\n",
    "# Call the function to print the first 10 Fibonacci numbers\n",
    "fibonacci_numbers()\n"
   ]
  },
  {
   "cell_type": "code",
   "execution_count": 83,
   "id": "f95d2c2d-7e36-4f55-a1e7-fa9e73cf872b",
   "metadata": {},
   "outputs": [
    {
     "name": "stdout",
     "output_type": "stream",
     "text": [
      "['p', 'w', 's', 'k', 'i', 'l', 'l', 's']\n"
     ]
    }
   ],
   "source": [
    "string = 'pwskills'\n",
    "\n",
    "# List comprehension to iterate through the string and create a list of characters\n",
    "result = [char for char in string]\n",
    "\n",
    "print(result)\n"
   ]
  },
  {
   "cell_type": "code",
   "execution_count": 84,
   "id": "65a76851-28fd-4fb8-8767-2f5b575e25b9",
   "metadata": {},
   "outputs": [
    {
     "name": "stdin",
     "output_type": "stream",
     "text": [
      "Enter a number:  2518\n"
     ]
    },
    {
     "name": "stdout",
     "output_type": "stream",
     "text": [
      "2518 is not a palindrome\n"
     ]
    }
   ],
   "source": [
    "def is_palindrome(num):\n",
    "    # Store the original number\n",
    "    original_num = num\n",
    "    \n",
    "    # Reverse the number using a while loop\n",
    "    reversed_num = 0\n",
    "    while num > 0:\n",
    "        digit = num % 10\n",
    "        reversed_num = reversed_num * 10 + digit\n",
    "        num = num // 10\n",
    "    \n",
    "    # Check if the original number is equal to its reverse\n",
    "    if original_num == reversed_num:\n",
    "        return True\n",
    "    else:\n",
    "        return False\n",
    "\n",
    "# Input number from the user\n",
    "num = int(input(\"Enter a number: \"))\n",
    "\n",
    "# Check if the number is a palindrome\n",
    "if is_palindrome(num):\n",
    "    print(num, \"is a palindrome\")\n",
    "else:\n",
    "    print(num, \"is not a palindrome\")\n"
   ]
  },
  {
   "cell_type": "code",
   "execution_count": null,
   "id": "2e57e906-8dbd-4f9b-807e-f35b634e3fe9",
   "metadata": {},
   "outputs": [],
   "source": [
    "Write a code to print odd numbers from 1 to 100 using list comprehension."
   ]
  }
 ],
 "metadata": {
  "kernelspec": {
   "display_name": "Python 3 (ipykernel)",
   "language": "python",
   "name": "python3"
  },
  "language_info": {
   "codemirror_mode": {
    "name": "ipython",
    "version": 3
   },
   "file_extension": ".py",
   "mimetype": "text/x-python",
   "name": "python",
   "nbconvert_exporter": "python",
   "pygments_lexer": "ipython3",
   "version": "3.10.8"
  }
 },
 "nbformat": 4,
 "nbformat_minor": 5
}
